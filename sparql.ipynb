{
 "cells": [
  {
   "cell_type": "code",
   "execution_count": 1,
   "metadata": {},
   "outputs": [
    {
     "name": "stderr",
     "output_type": "stream",
     "text": [
      "/home/prerak/anaconda3/envs/kg/lib/python3.11/site-packages/tqdm/auto.py:21: TqdmWarning: IProgress not found. Please update jupyter and ipywidgets. See https://ipywidgets.readthedocs.io/en/stable/user_install.html\n",
      "  from .autonotebook import tqdm as notebook_tqdm\n",
      "/home/prerak/anaconda3/envs/kg/lib/python3.11/site-packages/scipy/__init__.py:155: UserWarning: A NumPy version >=1.18.5 and <1.26.0 is required for this version of SciPy (detected version 1.26.0\n",
      "  warnings.warn(f\"A NumPy version >={np_minversion} and <{np_maxversion}\"\n"
     ]
    },
    {
     "name": "stdout",
     "output_type": "stream",
     "text": [
      "Using device cpu\n"
     ]
    }
   ],
   "source": [
    "import torch \n",
    "import torch_geometric\n",
    "import numpy as np\n",
    "from fuzzywuzzy import fuzz\n",
    "\n",
    "torch.seed()\n",
    "device = torch.device('cuda' if torch.cuda.is_available() else 'cpu')\n",
    "print(f\"Using device {device}\")"
   ]
  },
  {
   "cell_type": "code",
   "execution_count": 2,
   "metadata": {},
   "outputs": [],
   "source": [
    "from generate_graph import graph_to_ttl\n",
    "G = graph_to_ttl()\n"
   ]
  },
  {
   "cell_type": "code",
   "execution_count": 5,
   "metadata": {},
   "outputs": [],
   "source": [
    "nodes = set()\n",
    "relations = set()\n",
    "\n",
    "for stmt in G:\n",
    "    nodes.add(str(stmt[0]))\n",
    "    nodes.add(str(stmt[2]))\n",
    "    relations.add(str(stmt[1]))\n",
    "\n",
    "nodes = list(nodes)\n",
    "relations = list(relations)"
   ]
  },
  {
   "cell_type": "code",
   "execution_count": 67,
   "metadata": {},
   "outputs": [],
   "source": [
    "def fuzzsearch(w, is_node):\n",
    "    w = w.strip()\n",
    "    if(w.count(\"?\") != 0):\n",
    "        return w\n",
    "    if is_node:\n",
    "        scores = list(map(lambda x : fuzz.ratio(x, w), nodes))\n",
    "        idxs = np.flip(np.argsort(scores))\n",
    "        return nodes[idxs[0]]\n",
    "    else:\n",
    "        scores = list(map(lambda x : fuzz.ratio(x, w), relations))\n",
    "        idxs = np.flip(np.argsort(scores))\n",
    "        return relations[idxs[0]]"
   ]
  },
  {
   "cell_type": "code",
   "execution_count": 80,
   "metadata": {},
   "outputs": [
    {
     "name": "stdout",
     "output_type": "stream",
     "text": [
      "year:2013\n"
     ]
    }
   ],
   "source": [
    "import re\n",
    "\n",
    "def get_sparSQL(query):\n",
    "    # regex = r\"?[^,^)]+\"\n",
    "    # variables = re.findall(regex, query)\n",
    "    # print(variables)\n",
    "    regex = r\"\\(([^)]+)\\)\"\n",
    "    relations = re.findall(regex, query)\n",
    "    \n",
    "    variable = query.split('[')[0].strip()\n",
    "    \n",
    "    sparSQL = f\"SELECT DISTINCT {variable} \\nWHERE {{\\n\"\n",
    "    \n",
    "    for i in relations:\n",
    "        r = transform_relation(i)\n",
    "        if(r != None):\n",
    "            sparSQL += r\n",
    "    sparSQL += \"}\"\n",
    "    \n",
    "    return sparSQL\n",
    "\n",
    "def transform_relation(relation):\n",
    "    if(relation.count('?') == 0):\n",
    "        return None\n",
    "    q = \"\"\n",
    "    count = 0\n",
    "    for term in relation.split(\",\"):\n",
    "        q += f\"{fuzzsearch(term, count != 1)}\"\n",
    "        if(count != 2):\n",
    "            q += \" \"\n",
    "        count += 1\n",
    "    q += \".\\n\"\n",
    "    return q"
   ]
  },
  {
   "cell_type": "code",
   "execution_count": 82,
   "metadata": {},
   "outputs": [],
   "source": [
    "def get_results(query):\n",
    "    q = get_sparSQL(query)\n",
    "    qres = G.query(q)\n",
    "    \n",
    "    if(len(qres) == 0):\n",
    "        print(\"Unable to find any answer\")\n",
    "        return\n",
    "    for res in qres:\n",
    "        print(f\"Possible Answer: {str(res[0])}\")\n",
    "    "
   ]
  },
  {
   "cell_type": "code",
   "execution_count": 83,
   "metadata": {},
   "outputs": [
    {
     "name": "stdout",
     "output_type": "stream",
     "text": [
      "Possible Answer: year:2013\n"
     ]
    }
   ],
   "source": [
    "Q = '''?year1[(\"Elysium\", \"movie2year\", ?year1), (\"Elysium\", \"movie2actor\", \"Matt Damon\"), (\"Elysium\", \"movie2actor\", \"Jodie Foster\"), (\"Elysium\", \"movie2genre\", \"science fiction\")]'''\n",
    "\n",
    "get_results(Q)"
   ]
  }
 ],
 "metadata": {
  "kernelspec": {
   "display_name": "kg",
   "language": "python",
   "name": "python3"
  },
  "language_info": {
   "codemirror_mode": {
    "name": "ipython",
    "version": 3
   },
   "file_extension": ".py",
   "mimetype": "text/x-python",
   "name": "python",
   "nbconvert_exporter": "python",
   "pygments_lexer": "ipython3",
   "version": "3.11.5"
  },
  "orig_nbformat": 4
 },
 "nbformat": 4,
 "nbformat_minor": 2
}
