{
 "cells": [
  {
   "cell_type": "code",
   "execution_count": null,
   "metadata": {},
   "outputs": [],
   "source": [
    "import torch \n",
    "import torch_geometric\n",
    "\n",
    "torch.seed()\n",
    "device = torch.device('cuda' if torch.cuda.is_available() else 'cpu')\n",
    "print(f\"Using device {device}\")"
   ]
  },
  {
   "attachments": {},
   "cell_type": "markdown",
   "metadata": {},
   "source": [
    "### Load the Graph"
   ]
  },
  {
   "cell_type": "code",
   "execution_count": null,
   "metadata": {},
   "outputs": [],
   "source": [
    "from generate_graph import graph_to_nx\n",
    "\n",
    "G = graph_to_nx(\"IMDB-Movie-Data.csv\")\n",
    "\n",
    "data = torch_geometric.utils.from_networkx(G)"
   ]
  },
  {
   "attachments": {},
   "cell_type": "markdown",
   "metadata": {},
   "source": [
    "### Generating Graph Embeddings for the model"
   ]
  },
  {
   "cell_type": "code",
   "execution_count": null,
   "metadata": {},
   "outputs": [],
   "source": [
    "import torch.optim as optim\n",
    "from torch_geometric.data import DataLoader\n",
    "from torch_geometric.nn.kge import ComplEx\n",
    "\n",
    "from gnn import train, lossfn, evaluate\n",
    "\n",
    "embedding_dim = 64 ## undecided\n",
    "\n",
    "num_relations = torch.max(data.type).cpu().item() + 1\n",
    "\n",
    "model = ComplEx(data.num_nodes, num_relations, hidden_channels=embedding_dim).to(device)\n",
    "\n",
    "print(model)\n",
    "\n",
    "loader = model.loader(\n",
    "    head_index= data.edge_index[0],\n",
    "    rel_type= data.type,\n",
    "    tail_index= data.edge_index[1],\n",
    "    batch_size=128,\n",
    "    shuffle=True,\n",
    ")\n",
    "\n",
    "optimizer = optim.Adam(model.parameters(), lr=1e-3,weight_decay=1e-6)"
   ]
  },
  {
   "cell_type": "code",
   "execution_count": null,
   "metadata": {},
   "outputs": [],
   "source": [
    "train(model,optimizer,loader)"
   ]
  },
  {
   "cell_type": "markdown",
   "metadata": {},
   "source": [
    "### Loading and Finetuning the LM\n",
    "\n",
    "The LM corresponding to the Query Parser"
   ]
  },
  {
   "cell_type": "code",
   "execution_count": null,
   "metadata": {},
   "outputs": [],
   "source": [
    "from lm import ParserLM\n",
    "lm = ParserLM(to_finetune=True,desc=False)\n",
    "### This is currently broken , see sparql.ipynb ###"
   ]
  },
  {
   "cell_type": "code",
   "execution_count": null,
   "metadata": {},
   "outputs": [],
   "source": []
  }
 ],
 "metadata": {
  "kernelspec": {
   "display_name": "kg",
   "language": "python",
   "name": "python3"
  },
  "language_info": {
   "codemirror_mode": {
    "name": "ipython",
    "version": 3
   },
   "file_extension": ".py",
   "mimetype": "text/x-python",
   "name": "python",
   "nbconvert_exporter": "python",
   "pygments_lexer": "ipython3",
   "version": "3.11.5"
  }
 },
 "nbformat": 4,
 "nbformat_minor": 2
}
